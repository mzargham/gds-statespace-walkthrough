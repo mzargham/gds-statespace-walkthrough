{
 "cells": [
  {
   "cell_type": "markdown",
   "metadata": {},
   "source": [
    "# Introduction to Types and Schemas\n",
    "\n",
    "This notebook reviews the basics and then proceeds to define spaces and points."
   ]
  },
  {
   "cell_type": "markdown",
   "metadata": {},
   "source": [
    "### Types\n",
    "\n",
    "In programming, a *type* defines the kind of data that a variable can hold, specifying how it can be used and what operations can be performed on it. Each type determines the structure of the data and the sorts of operations that make sense for it. For example, numbers and strings behave differently; adding two numbers yields a mathematical result, while adding two strings results in concatenation.\n",
    "\n",
    "Python has several built-in types that cover a wide range of data. Some fundamental types include:\n",
    "- `int`: representing whole numbers, such as `5` or `-20`.\n",
    "- `float`: representing decimal or real numbers, such as `3.14` or `-0.001`.\n",
    "- `bool`: representing truth values, `True` or `False`.\n",
    "- `str`: representing text or sequences of characters, like `\"Hello\"` or `\"Python\"`.\n",
    "- `list`: a collection of items stored in a specific order, such as `[1, 2, 3]`.\n",
    "- `dict`: a collection of key-value pairs, allowing you to map one value to another, like `{\"name\": \"Alice\", \"age\": 25}`.\n",
    "\n",
    "Understanding types is essential \n",
    "because each type allows us to encode different kinds of information. As we work with generalized dynamical systems, types will serve as the building blocks for defining states and interactions within our models."
   ]
  },
  {
   "cell_type": "code",
   "execution_count": 1,
   "metadata": {},
   "outputs": [
    {
     "name": "stdout",
     "output_type": "stream",
     "text": [
      "Integer examples: 5 -20\n",
      "Float examples: 3.14 -0.001\n",
      "Boolean examples: True False\n",
      "String examples: Hello Python\n",
      "List examples: [1, 2, 3] [1, 'two', 3.0, True]\n",
      "Dictionary examples: {'name': 'Alice', 'age': 25} {'id': 123, 'details': {'name': 'Bob', 'is_student': False, 'grades': [85, 90, 92]}}\n"
     ]
    }
   ],
   "source": [
    "# Integer (int)\n",
    "my_int = 5\n",
    "negative_int = -20\n",
    "print(\"Integer examples:\", my_int, negative_int)\n",
    "\n",
    "# Floating-point number (float)\n",
    "my_float = 3.14\n",
    "small_float = -0.001\n",
    "print(\"Float examples:\", my_float, small_float)\n",
    "\n",
    "# Boolean (bool)\n",
    "is_true = True\n",
    "is_false = False\n",
    "print(\"Boolean examples:\", is_true, is_false)\n",
    "\n",
    "# String (str)\n",
    "greeting = \"Hello\"\n",
    "language = \"Python\"\n",
    "print(\"String examples:\", greeting, language)\n",
    "\n",
    "# List (list)\n",
    "my_list = [1, 2, 3]\n",
    "mixed_list = [1, \"two\", 3.0, True]\n",
    "print(\"List examples:\", my_list, mixed_list)\n",
    "\n",
    "# Dictionary (dict)\n",
    "my_dict = {\"name\": \"Alice\", \"age\": 25}\n",
    "complex_dict = {\n",
    "    \"id\": 123,\n",
    "    \"details\": {\n",
    "        \"name\": \"Bob\",\n",
    "        \"is_student\": False,\n",
    "        \"grades\": [85, 90, 92]\n",
    "    }\n",
    "}\n",
    "print(\"Dictionary examples:\", my_dict, complex_dict)"
   ]
  },
  {
   "cell_type": "markdown",
   "metadata": {},
   "source": [
    "### Schemas\n",
    "\n",
    "In the context of generalized dynamical systems, we introduce the concept of a *schema* to represent complex structures in a systematic way. A schema defines a structured \"blueprint\" for data using Python dictionaries, where each key-value pair represents a specific component of the data.\n",
    "\n",
    "Each schema uses *keys* to organize the data. The choice of key type influences the schema's behavior and interpretation:\n",
    "\n",
    "1. **Integer keys**: When using integers as keys, the schema takes on an ordered structure, similar to a vector where each position corresponds to a specific type of data. This approach allows us to define sequences with explicit ordering, a common requirement for numerical or positional data. "
   ]
  },
  {
   "cell_type": "code",
   "execution_count": 2,
   "metadata": {},
   "outputs": [
    {
     "name": "stdout",
     "output_type": "stream",
     "text": [
      "{0: <class 'int'>, 1: <class 'float'>, 2: <class 'bool'>}\n"
     ]
    }
   ],
   "source": [
    "#Example\n",
    "vector_schema = {\n",
    "    0: int,     # First position expects an integer\n",
    "    1: float,   # Second position expects a float\n",
    "    2: bool     # Third position expects a boolean\n",
    "}\n",
    "\n",
    "print(vector_schema)"
   ]
  },
  {
   "cell_type": "markdown",
   "metadata": {},
   "source": [
    "\n",
    "2. **String keys**: With string keys, we assign names to each component, making it easier to interpret the meaning of each value. This is particularly useful for modeling complex states where each element represents a different aspect of the system."
   ]
  },
  {
   "cell_type": "code",
   "execution_count": 3,
   "metadata": {},
   "outputs": [
    {
     "name": "stdout",
     "output_type": "stream",
     "text": [
      "{'name': <class 'str'>, 'age': <class 'int'>, 'is_active': <class 'bool'>}\n"
     ]
    }
   ],
   "source": [
    "\n",
    "# Example:\n",
    "\n",
    "named_schema = {\n",
    "   \"name\": str,       # Expects a string for name\n",
    "   \"age\": int,        # Expects an integer for age\n",
    "   \"is_active\": bool  # Expects a boolean for activity status\n",
    "}\n",
    "\n",
    "print(named_schema)"
   ]
  },
  {
   "cell_type": "markdown",
   "metadata": {},
   "source": [
    "\n",
    "3. **Hash keys**: When using hashes as keys (often represented as unique strings or integers), the schema behaves like a hashtable. This approach is effective for handling large and flexible data sets where the exact elements can vary or where lookup by key is essential.\n"
   ]
  },
  {
   "cell_type": "code",
   "execution_count": 4,
   "metadata": {},
   "outputs": [
    {
     "name": "stdout",
     "output_type": "stream",
     "text": [
      "{'abc123': <class 'int'>, 'def456': <class 'str'>, 'ghi789': <class 'list'>}\n"
     ]
    }
   ],
   "source": [
    "# Example:\n",
    "hash_schema = {\n",
    "    \"abc123\": int,      # A unique key associated with an integer\n",
    "    \"def456\": str,      # A unique key associated with a string\n",
    "    \"ghi789\": list      # A unique key associated with a list\n",
    "}\n",
    "\n",
    "print(hash_schema)\n"
   ]
  },
  {
   "cell_type": "markdown",
   "metadata": {},
   "source": [
    "\n",
    "By combining these different key types, schemas allow us to construct versatile statespaces that can represent data more flexibly than traditional vector spaces. This enables the modeling of a broader range of systems and applications, where each type and key type plays a unique role in encoding information. In python one technique for building schemas this way quickly and easily is usinge `dataclasses`. For tutorial purposes we will stick to pure python  here."
   ]
  },
  {
   "cell_type": "markdown",
   "metadata": {},
   "source": [
    "### Working with More Complex Types in Schemas\n",
    "\n",
    "To represent more advanced data structures within our schemas, we can extend beyond basic types like `int`, `float`, or `str`. Python’s `typing` module and libraries like `numpy` enable us to handle complex data types, such as lists of specific types, multidimensional arrays, and callable functions. Below are examples of how to integrate these into our schemas, using named keys for improved clarity.\n",
    "\n",
    "#### 1. Lists with Specified Types\n",
    "\n",
    "In some cases, we need to represent a list of items where each item is of a particular type, such as a list of floating-point numbers. To specify this type explicitly, we can use `List` from Python’s `typing` module, allowing us to define a list that only holds values of a specified type, like `float`.\n"
   ]
  },
  {
   "cell_type": "code",
   "execution_count": 5,
   "metadata": {},
   "outputs": [
    {
     "name": "stdout",
     "output_type": "stream",
     "text": [
      "{'myList': typing.List[float]}\n"
     ]
    }
   ],
   "source": [
    "from typing import List\n",
    "\n",
    "# Example schema with a list of floats\n",
    "list_schema = {\n",
    "'myList': List[float]  # A list where each element is expected to be a float\n",
    "}\n",
    "\n",
    "print(list_schema)"
   ]
  },
  {
   "cell_type": "markdown",
   "metadata": {},
   "source": [
    "In this schema, the `'myList'` key represents a list that should only contain `float` values, providing a clear structure for data that requires a sequence of numerical values.\n",
    "\n",
    "#### 2. Multidimensional Arrays\n",
    "\n",
    "For more complex numerical data, we may need to use multidimensional arrays. The `numpy` library provides the `ndarray` type, which can be used to specify arrays of various shapes and dimensions. For instance, we can define a `2x1` array (2 rows, 1 column) to store two related floating-point values.\n"
   ]
  },
  {
   "cell_type": "code",
   "execution_count": 6,
   "metadata": {},
   "outputs": [
    {
     "name": "stdout",
     "output_type": "stream",
     "text": [
      "{'my2x1array': numpy.ndarray[tuple[int, int], float]}\n"
     ]
    }
   ],
   "source": [
    "from numpy import ndarray, array\n",
    "\n",
    "# Example schema with a 2x1 numpy array\n",
    "array_schema = {\n",
    "    # this array has the shape (2, 1) and contains floats\n",
    "    'my2x1array': ndarray[tuple[int, int], float]  # A numpy array with dimensions 2x1\n",
    "}\n",
    "\n",
    "print(array_schema)"
   ]
  },
  {
   "cell_type": "markdown",
   "metadata": {},
   "source": [
    "\n",
    "In this schema, the `'my2x1array'` key expects a `numpy` array with dimensions `(2,1)`. This is especially useful for data structures that require compact storage of related numerical values, like vectors or small matrices.\n",
    "\n",
    "#### 3. Callables (Functions)\n",
    "\n",
    "Sometimes, the schema might need to include functions, especially when defining dynamic behavior or specifying transformations. We can use the `Callable` type from the `typing` module to specify that a particular key is expected to hold a function or callable object.\n"
   ]
  },
  {
   "cell_type": "code",
   "execution_count": 7,
   "metadata": {},
   "outputs": [
    {
     "name": "stdout",
     "output_type": "stream",
     "text": [
      "{'myFunc': typing.Callable[[typing.List[float], numpy.ndarray[tuple[int, int], float]], bool]}\n"
     ]
    }
   ],
   "source": [
    "\n",
    "from typing import Callable\n",
    "\n",
    "# Example schema with a callable function\n",
    "function_schema = {\n",
    "    # using type annocations to specify the expected type of the input and output\n",
    "    'myFunc': Callable[[List[float], ndarray[tuple[int, int], float]], bool]  # A key expected to hold a function that takes a List[float] and a 2x1 ndarray, and returns a bool\n",
    "}\n",
    "\n",
    "print(function_schema)"
   ]
  },
  {
   "cell_type": "markdown",
   "metadata": {},
   "source": [
    "\n",
    "In this schema, `'myFunc'` represents a function, which could be used to define a specific behavior or transformation in our generalized dynamical system. Callables are essential for encoding custom actions or processes within the statespace.\n"
   ]
  },
  {
   "cell_type": "code",
   "execution_count": 8,
   "metadata": {},
   "outputs": [
    {
     "name": "stdout",
     "output_type": "stream",
     "text": [
      "{'myList': typing.List[float], 'my2x1array': numpy.ndarray[tuple[int, int], float], 'myFunc': typing.Callable[[typing.List[float], numpy.ndarray[tuple[int, int], float]], bool]}\n"
     ]
    }
   ],
   "source": [
    "complex_schema = {\n",
    "    'myList': List[float],  # A list where each element is expected to be a float,\n",
    "    'my2x1array': ndarray[tuple[int, int], float],  # A numpy array with dimensions 2x1\n",
    "    'myFunc': Callable[[List[float], ndarray[tuple[int, int], float]], bool]\n",
    "}\n",
    "\n",
    "print(complex_schema)"
   ]
  },
  {
   "cell_type": "markdown",
   "metadata": {},
   "source": [
    "\n",
    "These advanced types enhance the flexibility and power of our schemas, allowing us to represent complex data structures like type-specific lists, multidimensional arrays, and callable functions. With these capabilities, our generalized statespaces can handle a wide range of complex data and operations, making them suitable for sophisticated dynamical systems modeling."
   ]
  },
  {
   "cell_type": "code",
   "execution_count": 9,
   "metadata": {},
   "outputs": [],
   "source": [
    "# Define the function that matches the 'myFunc' type in the schema\n",
    "def myFunc(myList: List[float], myArray: ndarray) -> bool:\n",
    "    \n",
    "    # Check if myList is a list\n",
    "    if not isinstance(myList, list):\n",
    "        print(\"myList is not a lis\")\n",
    "        return False\n",
    "    \n",
    "    # Check if the elements of myList are floats\n",
    "    for element in myList:\n",
    "        if not isinstance(element, float):\n",
    "            print(\"myList does not contain only floats\")\n",
    "            return False\n",
    "    \n",
    "    # check if myArray is a numpy array\n",
    "    if not isinstance(myArray, ndarray):\n",
    "        print(\"myArray is not a numpy array\")\n",
    "        return False\n",
    "    \n",
    "    # Check if myArray has the shape (2, 1)\n",
    "    if myArray.shape != (2, 1):\n",
    "        # edgge case where the shape is (2,) since its shorthand for (2, 1) in 1D arrays\n",
    "        if myArray.shape == (2,):\n",
    "            pass\n",
    "        else:\n",
    "            print(\"myArray does not have the shape (2, 1)\")\n",
    "            return False\n",
    "    \n",
    "    # check if the elements of myArray are Integers\n",
    "    if not myArray.dtype == int:\n",
    "        print(\"myArray does not contain only integers\")\n",
    "        return False\n",
    "\n",
    "    # If both conditions are met, return True\n",
    "    return True\n"
   ]
  },
  {
   "cell_type": "code",
   "execution_count": 13,
   "metadata": {},
   "outputs": [
    {
     "name": "stdout",
     "output_type": "stream",
     "text": [
      "This is the record satisfying the schema:\n",
      "{'myList': [2.0, 4.1], 'my2x1array': array([1.1, 3. ]), 'myFunc': <function myFunc at 0x11b490720>}\n",
      "\n",
      "myArray does not contain only integers\n",
      "This uses the function to check that the other elements in the record satisfy the schema:\n",
      "Function result: False\n"
     ]
    }
   ],
   "source": [
    "\n",
    "# Example record that matches the schema requirements\n",
    "record_1 = {\n",
    "    'myList': [2.0, 4.1],                           # Example list of floats\n",
    "    'my2x1array': array([1.1, 3]),             # Example 2x1 numpy array\n",
    "    'myFunc' : myFunc                              # Example function\n",
    "}\n",
    "\n",
    "print(\"This is the record satisfying the schema:\")\n",
    "print(record_1)\n",
    "print(\"\")\n",
    "\n",
    "# Demonstrate the function in action\n",
    "result_1 = record_1['myFunc'](record_1['myList'], record_1['my2x1array'])\n",
    "print(\"This uses the function to check that the other elements in the record satisfy the schema:\")\n",
    "print(\"Function result:\", result_1)  # Expected output: False\n"
   ]
  },
  {
   "cell_type": "markdown",
   "metadata": {},
   "source": [
    "We used myFunc to introduce a method which could validate the schema. Putting type annotated callables in schemas can be very helpful for a range use cases, such as using functions to encode utilies, beliefs or strategies.  In this example, we used constraint satisfaction because this tutorial is about types and schemas."
   ]
  },
  {
   "cell_type": "markdown",
   "metadata": {},
   "source": [
    "\n",
    "In the previous example, we saw a record (`record_1`) that did not satisfy the schema requirements. The `myFunc` returned `False` because the `my2x1array` contained a float value (1.1) instead of an integer.\n",
    "\n",
    "Now, let's look at another example where the record does satisfy the schema requirements. We'll create a new record (`record_2`) that adheres to the schema and test it with our validation function."
   ]
  },
  {
   "cell_type": "code",
   "execution_count": 11,
   "metadata": {},
   "outputs": [
    {
     "name": "stdout",
     "output_type": "stream",
     "text": [
      "This uses the function to check that the other elements in the record satisfy the schema:\n",
      "Function result: True\n"
     ]
    }
   ],
   "source": [
    "# Example record that matches the schema requirements\n",
    "record_2 = {\n",
    "    'myList': [2.1, 4.2],                           # Example list of floats\n",
    "    'my2x1array': array([1, 3]),             # Example 2x1 numpy array\n",
    "    'myFunc' : myFunc                              # Example function\n",
    "}\n",
    "\n",
    "# Demonstrate the function in action\n",
    "result_2 = record_2['myFunc'](record_2['myList'], record_2['my2x1array'])\n",
    "print(\"This uses the function to check that the other elements in the record satisfy the schema:\")\n",
    "print(\"Function result:\", result_2)  # Expected output: True"
   ]
  },
  {
   "cell_type": "code",
   "execution_count": 12,
   "metadata": {},
   "outputs": [
    {
     "data": {
      "text/plain": [
       "(2,)"
      ]
     },
     "execution_count": 12,
     "metadata": {},
     "output_type": "execute_result"
    }
   ],
   "source": []
  },
  {
   "cell_type": "code",
   "execution_count": null,
   "metadata": {},
   "outputs": [],
   "source": []
  }
 ],
 "metadata": {
  "kernelspec": {
   "display_name": "base",
   "language": "python",
   "name": "python3"
  },
  "language_info": {
   "codemirror_mode": {
    "name": "ipython",
    "version": 3
   },
   "file_extension": ".py",
   "mimetype": "text/x-python",
   "name": "python",
   "nbconvert_exporter": "python",
   "pygments_lexer": "ipython3",
   "version": "3.11.5"
  }
 },
 "nbformat": 4,
 "nbformat_minor": 2
}
