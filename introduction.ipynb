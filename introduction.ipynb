{
 "cells": [
  {
   "cell_type": "markdown",
   "metadata": {},
   "source": [
    "# Introduction to Types and Schemas\n",
    "\n",
    "This notebook reviews the basics and then proceeds to define spaces and points."
   ]
  },
  {
   "cell_type": "markdown",
   "metadata": {},
   "source": [
    "### Types\n",
    "\n",
    "In programming, a *type* defines the kind of data that a variable can hold, specifying how it can be used and what operations can be performed on it. Each type determines the structure of the data and the sorts of operations that make sense for it. For example, numbers and strings behave differently; adding two numbers yields a mathematical result, while adding two strings results in concatenation.\n",
    "\n",
    "Python has several built-in types that cover a wide range of data. Some fundamental types include:\n",
    "- `int`: representing whole numbers, such as `5` or `-20`.\n",
    "- `float`: representing decimal or real numbers, such as `3.14` or `-0.001`.\n",
    "- `bool`: representing truth values, `True` or `False`.\n",
    "- `str`: representing text or sequences of characters, like `\"Hello\"` or `\"Python\"`.\n",
    "- `list`: a collection of items stored in a specific order, such as `[1, 2, 3]`.\n",
    "- `dict`: a collection of key-value pairs, allowing you to map one value to another, like `{\"name\": \"Alice\", \"age\": 25}`.\n",
    "\n",
    "Understanding types is essential \n",
    "because each type allows us to encode different kinds of information. As we work with generalized dynamical systems, types will serve as the building blocks for defining states and interactions within our models."
   ]
  },
  {
   "cell_type": "code",
   "execution_count": 1,
   "metadata": {},
   "outputs": [
    {
     "name": "stdout",
     "output_type": "stream",
     "text": [
      "Integer examples: 5 -20\n",
      "Float examples: 3.14 -0.001\n",
      "Boolean examples: True False\n",
      "String examples: Hello Python\n",
      "List examples: [1, 2, 3] [1, 'two', 3.0, True]\n",
      "Dictionary examples: {'name': 'Alice', 'age': 25} {'id': 123, 'details': {'name': 'Bob', 'is_student': False, 'grades': [85, 90, 92]}}\n"
     ]
    }
   ],
   "source": [
    "# Integer (int)\n",
    "my_int = 5\n",
    "negative_int = -20\n",
    "print(\"Integer examples:\", my_int, negative_int)\n",
    "\n",
    "# Floating-point number (float)\n",
    "my_float = 3.14\n",
    "small_float = -0.001\n",
    "print(\"Float examples:\", my_float, small_float)\n",
    "\n",
    "# Boolean (bool)\n",
    "is_true = True\n",
    "is_false = False\n",
    "print(\"Boolean examples:\", is_true, is_false)\n",
    "\n",
    "# String (str)\n",
    "greeting = \"Hello\"\n",
    "language = \"Python\"\n",
    "print(\"String examples:\", greeting, language)\n",
    "\n",
    "# List (list)\n",
    "my_list = [1, 2, 3]\n",
    "mixed_list = [1, \"two\", 3.0, True]\n",
    "print(\"List examples:\", my_list, mixed_list)\n",
    "\n",
    "# Dictionary (dict)\n",
    "my_dict = {\"name\": \"Alice\", \"age\": 25}\n",
    "complex_dict = {\n",
    "    \"id\": 123,\n",
    "    \"details\": {\n",
    "        \"name\": \"Bob\",\n",
    "        \"is_student\": False,\n",
    "        \"grades\": [85, 90, 92]\n",
    "    }\n",
    "}\n",
    "print(\"Dictionary examples:\", my_dict, complex_dict)"
   ]
  },
  {
   "cell_type": "markdown",
   "metadata": {},
   "source": [
    "### Schemas\n",
    "\n",
    "In the context of generalized dynamical systems, we introduce the concept of a *schema* to represent complex structures in a systematic way. A schema defines a structured \"blueprint\" for data using Python dictionaries, where each key-value pair represents a specific component of the data.\n",
    "\n",
    "Each schema uses *keys* to organize the data. The choice of key type influences the schema's behavior and interpretation:\n",
    "\n",
    "#### 1. **Integer keys**: When using integers as keys, the schema takes on an ordered structure, similar to a vector where each position corresponds to a specific type of data. This approach allows us to define sequences with explicit ordering, a common requirement for numerical or positional data. "
   ]
  },
  {
   "cell_type": "code",
   "execution_count": 2,
   "metadata": {},
   "outputs": [
    {
     "name": "stdout",
     "output_type": "stream",
     "text": [
      "{0: <class 'int'>, 1: <class 'float'>, 2: <class 'bool'>}\n"
     ]
    }
   ],
   "source": [
    "#Example\n",
    "vector_schema = {\n",
    "    0: int,     # First position expects an integer\n",
    "    1: float,   # Second position expects a float\n",
    "    2: bool     # Third position expects a boolean\n",
    "}\n",
    "\n",
    "print(vector_schema)"
   ]
  },
  {
   "cell_type": "markdown",
   "metadata": {},
   "source": [
    "#### 2. **String keys**: With string keys, we assign names to each component, making it easier to interpret the meaning of each value. This is particularly useful for modeling complex states where each element represents a different aspect of the system."
   ]
  },
  {
   "cell_type": "code",
   "execution_count": 3,
   "metadata": {},
   "outputs": [
    {
     "name": "stdout",
     "output_type": "stream",
     "text": [
      "{'name': <class 'str'>, 'age': <class 'int'>, 'is_active': <class 'bool'>}\n"
     ]
    }
   ],
   "source": [
    "\n",
    "# Example:\n",
    "\n",
    "named_schema = {\n",
    "   \"name\": str,       # Expects a string for name\n",
    "   \"age\": int,        # Expects an integer for age\n",
    "   \"is_active\": bool  # Expects a boolean for activity status\n",
    "}\n",
    "\n",
    "print(named_schema)"
   ]
  },
  {
   "cell_type": "markdown",
   "metadata": {},
   "source": [
    "#### 3. **Hash keys**: When using hashes as keys (often represented as unique strings or integers), the schema behaves like a hashtable. This approach is effective for handling large and flexible data sets where the exact elements can vary or where lookup by key is essential.\n"
   ]
  },
  {
   "cell_type": "code",
   "execution_count": 4,
   "metadata": {},
   "outputs": [
    {
     "name": "stdout",
     "output_type": "stream",
     "text": [
      "{'abc123': <class 'int'>, 'def456': <class 'str'>, 'ghi789': <class 'list'>}\n"
     ]
    }
   ],
   "source": [
    "# Example:\n",
    "hash_schema = {\n",
    "    \"abc123\": int,      # A unique key associated with an integer\n",
    "    \"def456\": str,      # A unique key associated with a string\n",
    "    \"ghi789\": list      # A unique key associated with a list\n",
    "}\n",
    "\n",
    "print(hash_schema)\n"
   ]
  },
  {
   "cell_type": "markdown",
   "metadata": {},
   "source": [
    "\n",
    "By combining these different key types, schemas allow us to construct versatile statespaces that can represent data more flexibly than traditional vector spaces. This enables the modeling of a broader range of systems and applications, where each type and key type plays a unique role in encoding information. In python one technique for building schemas this way quickly and easily is usinge `dataclasses`. For tutorial purposes we will stick to pure python  here."
   ]
  },
  {
   "cell_type": "markdown",
   "metadata": {},
   "source": [
    "### Working with More Complex Types in Schemas\n",
    "\n",
    "To represent more advanced data structures within our schemas, we can extend beyond basic types like `int`, `float`, or `str`. Python’s `typing` module and libraries like `numpy` enable us to handle complex data types, such as lists of specific types, multidimensional arrays, and callable functions. Below are examples of how to integrate these into our schemas, using named keys for improved clarity.\n",
    "\n",
    "#### 1. Lists with Specified Types\n",
    "\n",
    "In some cases, we need to represent a list of items where each item is of a particular type, such as a list of floating-point numbers. To specify this type explicitly, we can use `List` from Python’s `typing` module, allowing us to define a list that only holds values of a specified type, like `float`.\n"
   ]
  },
  {
   "cell_type": "code",
   "execution_count": 5,
   "metadata": {},
   "outputs": [
    {
     "name": "stdout",
     "output_type": "stream",
     "text": [
      "{'myList': typing.List[float]}\n"
     ]
    }
   ],
   "source": [
    "from typing import List\n",
    "\n",
    "# Example schema with a list of floats\n",
    "list_schema = {\n",
    "'myList': List[float]  # A list where each element is expected to be a float\n",
    "}\n",
    "\n",
    "print(list_schema)"
   ]
  },
  {
   "cell_type": "markdown",
   "metadata": {},
   "source": [
    "In this schema, the `'myList'` key represents a list that should only contain `float` values, providing a clear structure for data that requires a sequence of numerical values.\n",
    "\n",
    "#### 2. Multidimensional Arrays\n",
    "\n",
    "For more complex numerical data, we may need to use multidimensional arrays. The `numpy` library provides the `ndarray` type, which can be used to specify arrays of various shapes and dimensions. For instance, we can define a `2x1` array (2 rows, 1 column) to store two related floating-point values.\n"
   ]
  },
  {
   "cell_type": "code",
   "execution_count": 6,
   "metadata": {},
   "outputs": [
    {
     "name": "stdout",
     "output_type": "stream",
     "text": [
      "{'my2x1array': numpy.ndarray[tuple[int, int], float]}\n"
     ]
    }
   ],
   "source": [
    "from numpy import ndarray, array\n",
    "\n",
    "# Example schema with a 2x1 numpy array\n",
    "array_schema = {\n",
    "    # this array has the shape (2, 1) and contains floats\n",
    "    'my2x1array': ndarray[tuple[int, int], float]  # A numpy array with dimensions 2x1\n",
    "}\n",
    "\n",
    "print(array_schema)"
   ]
  },
  {
   "cell_type": "markdown",
   "metadata": {},
   "source": [
    "\n",
    "In this schema, the `'my2x1array'` key expects a `numpy` array with dimensions `(2,1)`. This is especially useful for data structures that require compact storage of related numerical values, like vectors or small matrices.\n",
    "\n",
    "#### 3. Callables (Functions)\n",
    "\n",
    "Sometimes, the schema might need to include functions, especially when defining dynamic behavior or specifying transformations. We can use the `Callable` type from the `typing` module to specify that a particular key is expected to hold a function or callable object.\n"
   ]
  },
  {
   "cell_type": "code",
   "execution_count": 7,
   "metadata": {},
   "outputs": [
    {
     "name": "stdout",
     "output_type": "stream",
     "text": [
      "{'myFunc': typing.Callable[[typing.List[float], numpy.ndarray[tuple[int, int], float]], bool]}\n"
     ]
    }
   ],
   "source": [
    "\n",
    "from typing import Callable\n",
    "\n",
    "# Example schema with a callable function\n",
    "function_schema = {\n",
    "    # using type annocations to specify the expected type of the input and output\n",
    "    'myFunc': Callable[[List[float], ndarray[tuple[int, int], float]], bool]  # A key expected to hold a function that takes a List[float] and a 2x1 ndarray, and returns a bool\n",
    "}\n",
    "\n",
    "print(function_schema)"
   ]
  },
  {
   "cell_type": "markdown",
   "metadata": {},
   "source": [
    "\n",
    "In this schema, `'myFunc'` represents a function, which could be used to define a specific behavior or transformation in our generalized dynamical system. Callables are essential for encoding custom actions or processes within the statespace.\n",
    "\n",
    "These advanced types enhance the flexibility and power of our schemas, allowing us to represent complex data structures like type-specific lists, multidimensional arrays, and callable functions. With these capabilities, our generalized statespaces can handle a wide range of complex data and operations, making them suitable for sophisticated dynamical systems modeling.\n",
    "\n",
    "#### Complex Schemas\n",
    "\n",
    "Now that we've explored various types of data that can be included in our schemas, let's combine these elements to create more complex and comprehensive schemas. Complex schemas allow us to represent intricate data structures that can capture the full complexity of sophisticated dynamical systems.\n",
    "\n",
    "Here's an example of a complex schema that incorporates the different types we've discussed: \n"
   ]
  },
  {
   "cell_type": "code",
   "execution_count": 8,
   "metadata": {},
   "outputs": [
    {
     "name": "stdout",
     "output_type": "stream",
     "text": [
      "{'myList': typing.List[float], 'my2x1array': numpy.ndarray[tuple[int, int], float], 'myFunc': typing.Callable[[typing.List[float], numpy.ndarray[tuple[int, int], float]], bool]}\n"
     ]
    }
   ],
   "source": [
    "complex_schema = {\n",
    "    'myList': List[float],  # A list where each element is expected to be a float,\n",
    "    'my2x1array': ndarray[tuple[int, int], float],  # A numpy array with dimensions 2x1\n",
    "    'myFunc': Callable[[List[float], ndarray[tuple[int, int], float]], bool]\n",
    "}\n",
    "\n",
    "print(complex_schema)"
   ]
  },
  {
   "cell_type": "markdown",
   "metadata": {},
   "source": [
    "It's important to note that Python is not a strongly typed language, and dictionary-based schemas do not directly support type enforcement. While tools like `dataclasses` can provide better type checking in Python, we'll use our flexible schema approach to showcase its power and versatility.\n",
    "\n",
    "Now that we have defined our complex schema a we can create a function to check records against it. "
   ]
  },
  {
   "cell_type": "code",
   "execution_count": 9,
   "metadata": {},
   "outputs": [],
   "source": [
    "# Define the function that matches the 'myFunc' type in the schema\n",
    "def myFunc(myList: List[float], myArray: ndarray) -> bool:\n",
    "    \n",
    "    # Check if myList is a list\n",
    "    if not isinstance(myList, list):\n",
    "        print(\"myList is not a lis\")\n",
    "        return False\n",
    "    \n",
    "    # Check if the elements of myList are floats\n",
    "    for element in myList:\n",
    "        if not isinstance(element, float):\n",
    "            print(\"myList does not contain only floats\")\n",
    "            return False\n",
    "    \n",
    "    # check if myArray is a numpy array\n",
    "    if not isinstance(myArray, ndarray):\n",
    "        print(\"myArray is not a numpy array\")\n",
    "        return False\n",
    "    \n",
    "    # Check if myArray has the shape (2, 1)\n",
    "    if myArray.shape != (2, 1):\n",
    "        # edgge case where the shape is (2,) since its shorthand for (2, 1) in 1D arrays\n",
    "        if myArray.shape == (2,):\n",
    "            pass\n",
    "        else:\n",
    "            print(\"myArray does not have the shape (2, 1)\")\n",
    "            return False\n",
    "    \n",
    "    # check if the elements of myArray are Integers\n",
    "    if not myArray.dtype == int:\n",
    "        print(\"myArray does not contain only integers\")\n",
    "        return False\n",
    "\n",
    "    # If both conditions are met, return True\n",
    "    return True"
   ]
  },
  {
   "cell_type": "markdown",
   "metadata": {},
   "source": [
    "Let's create some sample records to demonstrate how this schema can be used. \n",
    "\n",
    "We'll create several sample records: some that adhere to the schema and others that don't. Then, we'll use our `myFunc` to validate these records against our schema. This approach allows us to maintain flexibility while still ensuring data integrity.\n",
    "\n",
    "Let's start by creating these sample records and then use our `myFunc` to check if they conform to our schema:"
   ]
  },
  {
   "cell_type": "code",
   "execution_count": 10,
   "metadata": {},
   "outputs": [
    {
     "name": "stdout",
     "output_type": "stream",
     "text": [
      "This is the record satisfying the schema:\n",
      "{'myList': [2.0, 4.1], 'my2x1array': array([1.1, 3. ]), 'myFunc': <function myFunc at 0x11c5367a0>}\n",
      "\n",
      "myArray does not contain only integers\n",
      "This uses the function to check that the other elements in the record satisfy the schema:\n",
      "Function result: False\n"
     ]
    }
   ],
   "source": [
    "\n",
    "# Example record that matches the schema requirements\n",
    "record_1 = {\n",
    "    'myList': [2.0, 4.1],                           # Example list of floats\n",
    "    'my2x1array': array([1.1, 3]),             # Example 2x1 numpy array\n",
    "    'myFunc' : myFunc                              # Example function\n",
    "}\n",
    "\n",
    "print(\"This is the record satisfying the schema:\")\n",
    "print(record_1)\n",
    "print(\"\")\n",
    "\n",
    "# Demonstrate the function in action\n",
    "result_1 = record_1['myFunc'](record_1['myList'], record_1['my2x1array'])\n",
    "print(\"This uses the function to check that the other elements in the record satisfy the schema:\")\n",
    "print(\"Function result:\", result_1)  # Expected output: False\n"
   ]
  },
  {
   "cell_type": "markdown",
   "metadata": {},
   "source": [
    "We used myFunc to introduce a method which could validate the schema. Putting type annotated callables in schemas can be very helpful for a range use cases, such as using functions to encode utilies, beliefs or strategies.  In this example, we used constraint satisfaction because this tutorial is about types and schemas."
   ]
  },
  {
   "cell_type": "markdown",
   "metadata": {},
   "source": [
    "\n",
    "In the previous example, we saw a record (`record_1`) that did not satisfy the schema requirements. The `myFunc` returned `False` because the `my2x1array` contained a float value (1.1) instead of an integer.\n",
    "\n",
    "Now, let's look at another example where the record does satisfy the schema requirements. We'll create a new record (`record_2`) that adheres to the schema and test it with our validation function."
   ]
  },
  {
   "cell_type": "code",
   "execution_count": 11,
   "metadata": {},
   "outputs": [
    {
     "name": "stdout",
     "output_type": "stream",
     "text": [
      "This uses the function to check that the other elements in the record satisfy the schema:\n",
      "Function result: True\n"
     ]
    }
   ],
   "source": [
    "# Example record that matches the schema requirements\n",
    "record_2 = {\n",
    "    'myList': [2.1, 4.2],                           # Example list of floats\n",
    "    'my2x1array': array([1, 3]),             # Example 2x1 numpy array\n",
    "    'myFunc' : myFunc                              # Example function\n",
    "}\n",
    "\n",
    "# Demonstrate the function in action\n",
    "result_2 = record_2['myFunc'](record_2['myList'], record_2['my2x1array'])\n",
    "print(\"This uses the function to check that the other elements in the record satisfy the schema:\")\n",
    "print(\"Function result:\", result_2)  # Expected output: True"
   ]
  },
  {
   "cell_type": "markdown",
   "metadata": {},
   "source": [
    "`record_2` can be considered a **Point** in the **Space** characterized by `complex_schema`. With a little reorganization we could make `myFunc` a constraint that is expected to hold for all points rather than one of the values in a record."
   ]
  },
  {
   "cell_type": "code",
   "execution_count": 12,
   "metadata": {},
   "outputs": [
    {
     "name": "stdout",
     "output_type": "stream",
     "text": [
      "{'schema': {'myList': typing.List[float], 'my2x1array': numpy.ndarray[tuple[int, int], float]}, 'constraints': {'domain': <function myFunc at 0x11c5367a0>}}\n"
     ]
    }
   ],
   "source": [
    "mySpace = {'schema':\n",
    "           {'myList': List[float],  # A list where each element is expected to be a float,\n",
    "            'my2x1array': ndarray[tuple[int, int], float]\n",
    "            },\n",
    "    'constraints':{'domain':myFunc}\n",
    "}\n",
    "\n",
    "print(mySpace)"
   ]
  },
  {
   "cell_type": "code",
   "execution_count": 13,
   "metadata": {},
   "outputs": [
    {
     "name": "stdout",
     "output_type": "stream",
     "text": [
      "{'myList': [2.1, 4.2], 'my2x1array': array([1, 3])}\n"
     ]
    }
   ],
   "source": [
    "myPoint = {'myList': [2.1, 4.2], 'my2x1array': array([1, 3])}\n",
    "print(myPoint)"
   ]
  },
  {
   "cell_type": "code",
   "execution_count": 14,
   "metadata": {},
   "outputs": [
    {
     "name": "stdout",
     "output_type": "stream",
     "text": [
      "True\n"
     ]
    }
   ],
   "source": [
    "print(mySpace['constraints']['domain'](myPoint['myList'], myPoint['my2x1array']))  # Expected output: True"
   ]
  },
  {
   "cell_type": "markdown",
   "metadata": {},
   "source": [
    "We can even make a distance function between two points. Let us interpret the `'2x1array'` as a direction and the `'myList'` as a collection of values of representing scalar distances along that radius. Then we can define and compute the **total** distance between all the associated  in 2d space. We're defining the the total distance as:\n",
    "\n",
    "$D(x,y) = \\sqrt{\\sum_{i,j} (x_i - y_j)^2}$.\n",
    "\n",
    "were $x$ and $y$ are constucted as $\\{m\\cdot v | \\forall m\\in M \\}$ where $M =$`myList` and $v =$`my2x1array`.\n"
   ]
  },
  {
   "cell_type": "code",
   "execution_count": 15,
   "metadata": {},
   "outputs": [
    {
     "name": "stdout",
     "output_type": "stream",
     "text": [
      "randPoints:\n",
      "{'myList': array([0.10729545, 0.97045922, 0.51731192, 0.51669807, 0.1160161 ,\n",
      "       0.78679774, 0.97546586, 0.40598621, 0.90202587, 0.36414058,\n",
      "       0.42603765, 0.86094396, 0.66067566, 0.00120986, 0.64545178,\n",
      "       0.52213263, 0.27986121, 0.10331595, 0.08138322, 0.53870682,\n",
      "       0.07919515, 0.28270592, 0.22135193, 0.05153071, 0.4302503 ]), 'my2x1array': array([-2, -3])}\n",
      "\n",
      "points:\n",
      "[array([-0.2145909 , -0.32188634]), array([-1.94091843, -2.91137765]), array([-1.03462383, -1.55193575]), array([-1.03339614, -1.55009422]), array([-0.23203219, -0.34804829]), array([-1.57359549, -2.36039323]), array([-1.95093172, -2.92639758]), array([-0.81197243, -1.21795864]), array([-1.80405175, -2.70607762]), array([-0.72828117, -1.09242175]), array([-0.85207531, -1.27811296]), array([-1.72188792, -2.58283188]), array([-1.32135132, -1.98202698]), array([-0.00241972, -0.00362959]), array([-1.29090357, -1.93635535]), array([-1.04426526, -1.56639789]), array([-0.55972243, -0.83958364]), array([-0.20663189, -0.30994784]), array([-0.16276645, -0.24414967]), array([-1.07741364, -1.61612046]), array([-0.1583903 , -0.23758544]), array([-0.56541184, -0.84811775]), array([-0.44270387, -0.6640558 ]), array([-0.10306142, -0.15459213]), array([-0.86050059, -1.29075089])]\n"
     ]
    }
   ],
   "source": [
    "import matplotlib.pyplot as plt\n",
    "import numpy as np\n",
    "\n",
    "randPoints = {'myList': np.random.rand(25), 'my2x1array': array([np.random.randint(low=-5,high=5), np.random.randint(low=-5,high=5)])}\n",
    "\n",
    "def make_points(point):\n",
    "    dir  = point['my2x1array']\n",
    "    values = [mag*dir for mag in point['myList']]\n",
    "    return values\n",
    "\n",
    "points = make_points(randPoints)\n",
    "\n",
    "print(\"randPoints:\")\n",
    "print(randPoints)\n",
    "print(\"\")\n",
    "print(\"points:\")\n",
    "print(points)"
   ]
  },
  {
   "cell_type": "code",
   "execution_count": 16,
   "metadata": {},
   "outputs": [
    {
     "data": {
      "text/plain": [
       "Text(0.5, 1.0, 'Randomly Generated Points along the 2x1array')"
      ]
     },
     "execution_count": 16,
     "metadata": {},
     "output_type": "execute_result"
    },
    {
     "data": {
      "image/png": "[encoded data removed]",
      "text/plain": [
       "<Figure size 640x480 with 1 Axes>"
      ]
     },
     "metadata": {},
     "output_type": "display_data"
    }
   ],
   "source": [
    "plt.scatter(*zip(*points))\n",
    "#plot the line from the 2x1array\n",
    "plt.plot([0, randPoints['my2x1array'][0]], [0, randPoints['my2x1array'][1]], 'k-')\n",
    "\n",
    "# label the x and y axes\n",
    "plt.xlabel('x')\n",
    "plt.ylabel('y')\n",
    "plt.title('Randomly Generated Points along the 2x1array')"
   ]
  },
  {
   "cell_type": "markdown",
   "metadata": {},
   "source": [
    "Now to compute a distance\n",
    "\n",
    "\n"
   ]
  },
  {
   "cell_type": "code",
   "execution_count": 17,
   "metadata": {},
   "outputs": [],
   "source": [
    "def distance(point1, point2):\n",
    "    dir_1  = point1['my2x1array']\n",
    "    dir_2 = point2['my2x1array']\n",
    "\n",
    "    values_1 = [mag*dir_1 for mag in point1['myList']]\n",
    "    values_2 = [mag*dir_2 for mag in point2['myList']]\n",
    "\n",
    "    dist = 0\n",
    "    for val1, val2 in zip(values_1, values_2):\n",
    "        dist += (val1 - val2)**2\n",
    "    \n",
    "    return dist**0.5"
   ]
  },
  {
   "cell_type": "code",
   "execution_count": 18,
   "metadata": {},
   "outputs": [
    {
     "data": {
      "text/plain": [
       "1"
      ]
     },
     "execution_count": 18,
     "metadata": {},
     "output_type": "execute_result"
    }
   ],
   "source": [
    "np.random.randint(low=-5,high=5)"
   ]
  },
  {
   "cell_type": "code",
   "execution_count": null,
   "metadata": {},
   "outputs": [],
   "source": []
  }
 ],
 "metadata": {
  "kernelspec": {
   "display_name": "base",
   "language": "python",
   "name": "python3"
  },
  "language_info": {
   "codemirror_mode": {
    "name": "ipython",
    "version": 3
   },
   "file_extension": ".py",
   "mimetype": "text/x-python",
   "name": "python",
   "nbconvert_exporter": "python",
   "pygments_lexer": "ipython3",
   "version": "3.11.5"
  }
 },
 "nbformat": 4,
 "nbformat_minor": 2
}
